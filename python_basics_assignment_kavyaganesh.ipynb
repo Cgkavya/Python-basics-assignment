{
 "cells": [
  {
   "cell_type": "markdown",
   "id": "d2328cad",
   "metadata": {},
   "source": [
    "# Python Basics Assignment\n",
    "\n",
    "This notebook contains 20 basic Python questions.  \n",
    "Each question carries **1 mark**. Write your answer in the cell provided.  \n"
   ]
  },
  {
   "cell_type": "markdown",
   "id": "cb537954",
   "metadata": {},
   "source": [
    "### Question 1\n",
    "Write a function that returns the square of a number."
   ]
  },
  {
   "cell_type": "code",
   "execution_count": 1,
   "id": "cf213ba2",
   "metadata": {},
   "outputs": [
    {
     "name": "stdin",
     "output_type": "stream",
     "text": [
      "Enter the number:  5\n"
     ]
    },
    {
     "name": "stdout",
     "output_type": "stream",
     "text": [
      "Square of number :  25\n"
     ]
    }
   ],
   "source": [
    "# Your code here\n",
    "def your_function_1():\n",
    "  num = input(\"Enter the number: \")\n",
    "  num = int(num)\n",
    "  square = num * num\n",
    "  return square\n",
    "\n",
    "\n",
    "result = your_function_1()\n",
    "print(\"Square of number : \" ,result)  \n",
    "pass"
   ]
  },
  {
   "cell_type": "markdown",
   "id": "4eaff430",
   "metadata": {},
   "source": [
    "### Question 2\n",
    "Write a function that checks whether a number is even."
   ]
  },
  {
   "cell_type": "code",
   "execution_count": 2,
   "id": "81934cf7",
   "metadata": {},
   "outputs": [
    {
     "name": "stdin",
     "output_type": "stream",
     "text": [
      "Enter the number:  58\n"
     ]
    },
    {
     "name": "stdout",
     "output_type": "stream",
     "text": [
      "The number is even\n"
     ]
    }
   ],
   "source": [
    "# Your code here\n",
    "def your_function_2():\n",
    "\n",
    "  a = input(\"Enter the number: \")\n",
    "  a = int(a)\n",
    "\n",
    "  if (a % 2 == 0):\n",
    "    print(\"The number is even\")\n",
    "  return\n",
    "\n",
    "    \n",
    "your_function_2()\n"
   ]
  },
  {
   "cell_type": "markdown",
   "id": "5f061e50",
   "metadata": {},
   "source": [
    "### Question 3\n",
    "Write a function to return the maximum of two numbers."
   ]
  },
  {
   "cell_type": "code",
   "execution_count": 3,
   "id": "44e2a596",
   "metadata": {},
   "outputs": [
    {
     "name": "stdin",
     "output_type": "stream",
     "text": [
      "Enter the first number:  47\n",
      "Enter the second number:  65\n"
     ]
    },
    {
     "name": "stdout",
     "output_type": "stream",
     "text": [
      "65\n"
     ]
    }
   ],
   "source": [
    "# Your code here\n",
    "def your_function_3():\n",
    "      x = input(\"Enter the first number: \")\n",
    "      x = int(x)\n",
    "      y = input(\"Enter the second number: \")\n",
    "      y = int(y)    \n",
    "\n",
    "      if (x > y):\n",
    "         print(x)\n",
    "      else:\n",
    "          print(y)\n",
    "      return\n",
    "\n",
    "\n",
    "your_function_3()\n"
   ]
  },
  {
   "cell_type": "markdown",
   "id": "7513ca91",
   "metadata": {},
   "source": [
    "### Question 4\n",
    "Write a function to return the factorial of a number."
   ]
  },
  {
   "cell_type": "code",
   "execution_count": 4,
   "id": "6617842f",
   "metadata": {},
   "outputs": [
    {
     "name": "stdout",
     "output_type": "stream",
     "text": [
      "The factorial is :  120\n"
     ]
    }
   ],
   "source": [
    "# Your code here\n",
    "def your_function_4(n):\n",
    "    if(n == 1):\n",
    "        return 1\n",
    "    else:     \n",
    "        return n * your_function_4(n-1)\n",
    "\n",
    "\n",
    "\n",
    "fact = your_function_4(5)\n",
    "print(\"The factorial is : \" , fact)  \n",
    "\n"
   ]
  },
  {
   "cell_type": "markdown",
   "id": "9b942098",
   "metadata": {},
   "source": [
    "### Question 5\n",
    "Write a function to reverse a string."
   ]
  },
  {
   "cell_type": "code",
   "execution_count": 5,
   "id": "d606b194",
   "metadata": {},
   "outputs": [
    {
     "name": "stdout",
     "output_type": "stream",
     "text": [
      "ecneicsataD\n"
     ]
    }
   ],
   "source": [
    "# Your code here\n",
    "def your_function_5(s):\n",
    "    rev = s[::-1]\n",
    "    print(rev)\n",
    "    return\n",
    "\n",
    "\n",
    "\n",
    "your_function_5(\"Datascience\")\n",
    "pass"
   ]
  },
  {
   "cell_type": "markdown",
   "id": "1abd915b",
   "metadata": {},
   "source": [
    "### Question 6\n",
    "Write a function to check if a string is a palindrome."
   ]
  },
  {
   "cell_type": "code",
   "execution_count": 6,
   "id": "2b868fb3",
   "metadata": {},
   "outputs": [
    {
     "name": "stdout",
     "output_type": "stream",
     "text": [
      "The string is a palindrome\n"
     ]
    }
   ],
   "source": [
    "# Your code here\n",
    "def your_function_6(p):\n",
    "    reverse = p[::-1]\n",
    "    if(p == reverse):\n",
    "     print(\"The string is a palindrome\")\n",
    "    else:\n",
    "     print(\"The string is not a palindrome\")\n",
    "    \n",
    "\n",
    "\n",
    "your_function_6(\"malayalam\")    \n",
    "pass"
   ]
  },
  {
   "cell_type": "markdown",
   "id": "5f2f3791",
   "metadata": {},
   "source": [
    "### Question 7\n",
    "Write a function to count vowels in a string."
   ]
  },
  {
   "cell_type": "code",
   "execution_count": 7,
   "id": "73fefa50",
   "metadata": {},
   "outputs": [
    {
     "name": "stdout",
     "output_type": "stream",
     "text": [
      "{'a': 1, 'e': 1, 'A': 1, 'I': 1}\n"
     ]
    }
   ],
   "source": [
    "# Your code here\n",
    "def your_function_7():\n",
    "    st = \"ICT Academy\"\n",
    "    vowels = \"aeiouAEIOU\"\n",
    "    cnt = {i: st.count(i) for i in vowels if i in st}\n",
    "    print(cnt)\n",
    "    return\n",
    "\n",
    "\n",
    "your_function_7()  \n"
   ]
  },
  {
   "cell_type": "markdown",
   "id": "0d3a9996",
   "metadata": {},
   "source": [
    "### Question 8\n",
    "Write a function that returns the sum of a list."
   ]
  },
  {
   "cell_type": "code",
   "execution_count": 8,
   "id": "ab6afc66",
   "metadata": {},
   "outputs": [
    {
     "name": "stdout",
     "output_type": "stream",
     "text": [
      "The sum is :  260\n"
     ]
    }
   ],
   "source": [
    "# Your code here\n",
    "def your_function_8():\n",
    "    l = [10,35,40,75,100]\n",
    "    add = sum(l)\n",
    "    print(\"The sum is : \",add)\n",
    "    return\n",
    "\n",
    "\n",
    "your_function_8()    \n",
    "pass"
   ]
  },
  {
   "cell_type": "markdown",
   "id": "f6682500",
   "metadata": {},
   "source": [
    "### Question 9\n",
    "Write a function to find the smallest number in a list."
   ]
  },
  {
   "cell_type": "code",
   "execution_count": 9,
   "id": "6798a641",
   "metadata": {},
   "outputs": [
    {
     "name": "stdout",
     "output_type": "stream",
     "text": [
      "The smallest number is :  10\n"
     ]
    }
   ],
   "source": [
    "# Your code here\n",
    "def your_function_9():\n",
    "    numbers = [10,35,40,75,100]\n",
    "    sm = min(numbers)\n",
    "    print(\"The smallest number is : \",sm)\n",
    "    return\n",
    "\n",
    "\n",
    "your_function_9()    \n",
    "pass\n"
   ]
  },
  {
   "cell_type": "markdown",
   "id": "fb11e683",
   "metadata": {},
   "source": [
    "### Question 10\n",
    "Write a function to remove duplicates from a list."
   ]
  },
  {
   "cell_type": "code",
   "execution_count": 10,
   "id": "7c53f88c",
   "metadata": {},
   "outputs": [
    {
     "name": "stdout",
     "output_type": "stream",
     "text": [
      "[1, 2, 3, 4, 5, 6, 7, 8]\n"
     ]
    }
   ],
   "source": [
    "# Your code here\n",
    "def your_function_10():\n",
    "    b = [1, 2, 2, 3, 4, 4, 5, 6 , 7, 8, 8]\n",
    "    unique_list = list(dict.fromkeys(b))\n",
    "    print(unique_list)\n",
    "\n",
    "\n",
    "your_function_10()\n",
    "    "
   ]
  },
  {
   "cell_type": "markdown",
   "id": "9c380a5c",
   "metadata": {},
   "source": [
    "### Question 11\n",
    "Write a function to sort a list in ascending order."
   ]
  },
  {
   "cell_type": "code",
   "execution_count": 11,
   "id": "8e43832f",
   "metadata": {},
   "outputs": [
    {
     "name": "stdout",
     "output_type": "stream",
     "text": [
      "The sorted list is  [1, 4, 8, 10, 25, 35, 70]\n"
     ]
    }
   ],
   "source": [
    "# Your code here\n",
    "def your_function_11():\n",
    "    asc = [4,10,25,1,35,70,8]\n",
    "    asc.sort()\n",
    "    print(\"The sorted list is \", asc)\n",
    "    return\n",
    "\n",
    "\n",
    "your_function_11()    \n",
    "pass"
   ]
  },
  {
   "cell_type": "markdown",
   "id": "1270c91c",
   "metadata": {},
   "source": [
    "### Question 12\n",
    "Write a function that returns the length of a string."
   ]
  },
  {
   "cell_type": "code",
   "execution_count": 12,
   "id": "87f35472",
   "metadata": {},
   "outputs": [
    {
     "name": "stdin",
     "output_type": "stream",
     "text": [
      "Enter the string my name is kavya\n"
     ]
    },
    {
     "name": "stdout",
     "output_type": "stream",
     "text": [
      "16\n"
     ]
    }
   ],
   "source": [
    "# Your code here\n",
    "def your_function_12():\n",
    "    string = input(\"Enter the string\")\n",
    "    print(len(string))\n",
    "\n",
    "\n",
    "your_function_12()    \n",
    "pass"
   ]
  },
  {
   "cell_type": "markdown",
   "id": "9a8e3d28",
   "metadata": {},
   "source": [
    "### Question 13\n",
    "Write a function to count words in a sentence."
   ]
  },
  {
   "cell_type": "code",
   "execution_count": 13,
   "id": "e6f996ef",
   "metadata": {},
   "outputs": [
    {
     "name": "stdout",
     "output_type": "stream",
     "text": [
      "3\n"
     ]
    }
   ],
   "source": [
    "# Your code here\n",
    "def your_function_13(w):\n",
    "   word_count = len(w.split())\n",
    "   print(word_count)\n",
    "   return\n",
    "\n",
    "    \n",
    "your_function_13(\"Today is Sunday\")    \n"
   ]
  },
  {
   "cell_type": "markdown",
   "id": "430c2e4a",
   "metadata": {},
   "source": [
    "### Question 14\n",
    "Write a function to convert Celsius to Fahrenheit."
   ]
  },
  {
   "cell_type": "code",
   "execution_count": 14,
   "id": "b710b0bd",
   "metadata": {},
   "outputs": [
    {
     "name": "stdin",
     "output_type": "stream",
     "text": [
      "Enter temperature in celsius:  68\n"
     ]
    },
    {
     "name": "stdout",
     "output_type": "stream",
     "text": [
      "68.0\n",
      "154.4\n"
     ]
    }
   ],
   "source": [
    "# Your code here\n",
    "def your_function_14():\n",
    "    c = float(input(\"Enter temperature in celsius: \"))\n",
    "    f = (c * 1.8) + 32\n",
    "    print(str(c))\n",
    "    print(str(f))\n",
    "    return\n",
    "\n",
    "    \n",
    "\n",
    "your_function_14()"
   ]
  },
  {
   "cell_type": "markdown",
   "id": "acefe5e3",
   "metadata": {},
   "source": [
    "### Question 15\n",
    "Write a function to check if a number is prime."
   ]
  },
  {
   "cell_type": "code",
   "execution_count": 15,
   "id": "b700abae",
   "metadata": {},
   "outputs": [
    {
     "name": "stdout",
     "output_type": "stream",
     "text": [
      "False\n",
      "True\n",
      "True\n"
     ]
    }
   ],
   "source": [
    "# Your code here\n",
    "from sympy import *\n",
    "def your_function_15():\n",
    "   \n",
    "    n1 = isprime(4)\n",
    "    n2 = isprime(23)\n",
    "    n3 = isprime(7)\n",
    "    print(n1) \n",
    "    print(n2) \n",
    "    print(n3) \n",
    "    return\n",
    "\n",
    "\n",
    "your_function_15()    \n"
   ]
  },
  {
   "cell_type": "markdown",
   "id": "b63452cb",
   "metadata": {},
   "source": [
    "### Question 16\n",
    "Write a function to return all even numbers in a list."
   ]
  },
  {
   "cell_type": "code",
   "execution_count": 16,
   "id": "9d1fc968",
   "metadata": {},
   "outputs": [
    {
     "name": "stdout",
     "output_type": "stream",
     "text": [
      "14\n",
      "78\n",
      "56\n",
      "12\n",
      "8\n"
     ]
    }
   ],
   "source": [
    "# Your code here\n",
    "def your_function_16():\n",
    "    e = [14,25,78,56,3,12,8]\n",
    "    for val in e:\n",
    "        if (val % 2 == 0):\n",
    "          print(val)\n",
    "\n",
    "\n",
    "    \n",
    "your_function_16()    \n",
    "pass"
   ]
  },
  {
   "cell_type": "markdown",
   "id": "aca524d9",
   "metadata": {},
   "source": [
    "### Question 17\n",
    "Write a function to return the nth Fibonacci number."
   ]
  },
  {
   "cell_type": "code",
   "execution_count": 17,
   "id": "97dc4e87",
   "metadata": {},
   "outputs": [
    {
     "name": "stdout",
     "output_type": "stream",
     "text": [
      "34\n"
     ]
    }
   ],
   "source": [
    "# Your code here\n",
    "def your_function_17(f):\n",
    "         if f <= 0:\n",
    "          return \"Incorrect Output\"\n",
    "         data = [0, 1]\n",
    "         if f > 2:\n",
    "          for i in range(2, f):\n",
    "            data.append(data[i-1] + data[i-2])\n",
    "         return data[f-1]\n",
    "\n",
    "print(your_function_17(10))    \n",
    "pass"
   ]
  },
  {
   "cell_type": "markdown",
   "id": "29c847dc",
   "metadata": {},
   "source": [
    "### Question 18\n",
    "Write a function to calculate the average of a list."
   ]
  },
  {
   "cell_type": "code",
   "execution_count": 18,
   "id": "9adc9fd2",
   "metadata": {},
   "outputs": [
    {
     "name": "stdout",
     "output_type": "stream",
     "text": [
      "The mean is :  13.666666666666666\n"
     ]
    }
   ],
   "source": [
    "# Your code here\n",
    "import statistics\n",
    "def your_function_18():\n",
    "    g = [10,12,14,12,18,16]\n",
    "    average = statistics.mean(g)\n",
    "    print(\"The mean is : \", average)\n",
    "    return\n",
    "\n",
    "\n",
    "\n",
    "your_function_18()    \n",
    "pass"
   ]
  },
  {
   "cell_type": "markdown",
   "id": "420240fb",
   "metadata": {},
   "source": [
    "### Question 19\n",
    "Write a function that returns a dictionary of character counts."
   ]
  },
  {
   "cell_type": "code",
   "execution_count": 19,
   "id": "95cafc54",
   "metadata": {},
   "outputs": [
    {
     "name": "stdout",
     "output_type": "stream",
     "text": [
      "{'S': 1, 't': 3, 'a': 1, 'i': 2, 's': 2, 'c': 1}\n"
     ]
    }
   ],
   "source": [
    "# Your code here\n",
    "from collections import Counter\n",
    "def your_function_19(word):\n",
    "    character_count = Counter(word)\n",
    "    print(dict(character_count))\n",
    "    return \n",
    "\n",
    "\n",
    "\n",
    "your_function_19(\"Statistics\")    \n",
    "pass"
   ]
  },
  {
   "cell_type": "markdown",
   "id": "17629a07",
   "metadata": {},
   "source": [
    "### Question 20\n",
    "Write a function that returns True if all list elements are unique."
   ]
  },
  {
   "cell_type": "code",
   "execution_count": 20,
   "id": "fe4f8820",
   "metadata": {},
   "outputs": [
    {
     "name": "stdout",
     "output_type": "stream",
     "text": [
      "True\n"
     ]
    }
   ],
   "source": [
    "# Your code here\n",
    "def your_function_20():\n",
    "    e = ['Apple' , 'Banana', \"Orange\", \"Grapes\"]\n",
    "    if len(e) > len(set(e)):\n",
    "        return False\n",
    "    else:   \n",
    "        return True\n",
    "\n",
    "out = your_function_20() \n",
    "print(out)\n",
    "pass"
   ]
  }
 ],
 "metadata": {
  "kernelspec": {
   "display_name": "Python 3 (ipykernel)",
   "language": "python",
   "name": "python3"
  },
  "language_info": {
   "codemirror_mode": {
    "name": "ipython",
    "version": 3
   },
   "file_extension": ".py",
   "mimetype": "text/x-python",
   "name": "python",
   "nbconvert_exporter": "python",
   "pygments_lexer": "ipython3",
   "version": "3.13.2"
  }
 },
 "nbformat": 4,
 "nbformat_minor": 5
}
